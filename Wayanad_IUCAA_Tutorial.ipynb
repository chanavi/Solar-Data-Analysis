{
 "cells": [
  {
   "cell_type": "markdown",
   "metadata": {
    "slideshow": {
     "slide_type": "slide"
    }
   },
   "source": [
    "### Solar Python Tutorial\n",
    "\n",
    "Welcome to the Solar python tutorial session. In this tutorial session, we will have hands-on experience with handling solar data using python.\n",
    "\n",
    "For starters, we will import certain libraries which will be used later."
   ]
  },
  {
   "cell_type": "code",
   "execution_count": null,
   "metadata": {
    "collapsed": true,
    "slideshow": {
     "slide_type": "subslide"
    }
   },
   "outputs": [],
   "source": [
    "%matplotlib inline \n",
    "import numpy as np\n",
    "import matplotlib.pyplot as plt\n",
    "plt.rcParams['image.origin']='lower'\n",
    "import __future__ "
   ]
  },
  {
   "cell_type": "code",
   "execution_count": null,
   "metadata": {
    "collapsed": true,
    "slideshow": {
     "slide_type": "subslide"
    }
   },
   "outputs": [],
   "source": [
    "import astropy as ap\n",
    "from astropy.io import fits"
   ]
  },
  {
   "cell_type": "markdown",
   "metadata": {
    "slideshow": {
     "slide_type": "slide"
    }
   },
   "source": [
    "### Pre-analysis\n",
    "\n",
    "The files of your folder should be arranged as such:\n",
    "```\n",
    "Current Directory\n",
    "    1. Wayanad_IUCAA_Tutorial\n",
    "    2. assets\n",
    "    3. aia171\n",
    "        3.1 ssw_cutout_20110809_033012_AIA_171_.fts\n",
    "        3.2 ssw_cutout_20110809_033112_AIA_171_.fts\n",
    "        ....\n",
    "    4. aia131 \n",
    "        4.1 ....\n",
    "    5. aia193\n",
    "        5.1 ....\n",
    "    6. aia211\n",
    "        6.1 ....\n",
    "    7. aia335\n",
    "        7.1 ....\n",
    "    8. aia094\n",
    "        8.1 ....\n",
    "    9. hmi\n",
    "        9.1 ....\n",
    "    10. FullDisc\n",
    "        10.1 ....\n",
    "```\n",
    "If this arrangement is present, we can move ahead to our first task!"
   ]
  },
  {
   "cell_type": "markdown",
   "metadata": {
    "slideshow": {
     "slide_type": "slide"
    }
   },
   "source": [
    "### Task 0: Full Disc plotting\n",
    "\n",
    "The Sun in its entirety, as we know, is beautiful in different wavelengths. Let us see how the Sun looks like in one particular channel.\n",
    "\n",
    "For a gentle introduction to loading data, we use `numpy` array format."
   ]
  },
  {
   "cell_type": "code",
   "execution_count": null,
   "metadata": {
    "slideshow": {
     "slide_type": "subslide"
    }
   },
   "outputs": [],
   "source": [
    "image=np.load('FullDisc/193.npy')\n",
    "print(image.shape)"
   ]
  },
  {
   "cell_type": "code",
   "execution_count": null,
   "metadata": {
    "slideshow": {
     "slide_type": "subslide"
    }
   },
   "outputs": [],
   "source": [
    "plt.figure()\n",
    "plt.imshow(image,cmap='hot')"
   ]
  },
  {
   "cell_type": "markdown",
   "metadata": {
    "slideshow": {
     "slide_type": "skip"
    }
   },
   "source": [
    "### Test 0: Plot a full disc image of your choice\n",
    "\n",
    "The following wavelengths are possible: 94,171,131,193,211,304,335,1600,1700. Do not plot hmi data yet. \n"
   ]
  },
  {
   "cell_type": "code",
   "execution_count": null,
   "metadata": {
    "collapsed": true,
    "slideshow": {
     "slide_type": "skip"
    }
   },
   "outputs": [],
   "source": [
    "#Load the image.\n",
    "image=np.load()\n",
    "#Define the figure.\n",
    "plt.figure()\n",
    "#Plot the image. Use an appropriate colourmap.\n",
    "plt.imshow()\n"
   ]
  },
  {
   "cell_type": "markdown",
   "metadata": {
    "slideshow": {
     "slide_type": "slide"
    }
   },
   "source": [
    "### Solar data\n",
    "\n",
    "Solar data comes in a file format called ['FITS'](https://fits.gsfc.nasa.gov/fits_documentation.html): Flexible Image Transport System. \n",
    "\n",
    "This file format contains units called HDUs -- Header/Data Units. \n",
    "- The header usually contains information regarding the data acquisiton process, telescopes/filters used, etc. Header information is useful in diagnosing any problems/issues that might occur in the analyis. \n",
    "- The data unit contains the actual measurements from the telescope. This is the stuff which we shall be using for our analysis next\n",
    "\n",
    "-------------------------------"
   ]
  },
  {
   "cell_type": "markdown",
   "metadata": {
    "slideshow": {
     "slide_type": "subslide"
    }
   },
   "source": [
    "### What's the idea?\n",
    "\n",
    "We shall be looking at an <font color=\"#f34710\">Active Region(AR)</font> data taken using <font color=\"#ed8305\">Atmospheric Imaging Assembly</font> ([AIA](https://aia.lmsal.com/)) onboard <font color=\"#ed8305\">Solar Dynamics Observatory</font> ([SDO](https://en.wikipedia.org/wiki/Solar_Dynamics_Observatory)). The AR is observed in 94 &#8491;, 131 &#8491;, 171 &#8491;, 193 &#8491;, 211 &#8491;, 335 &#8491; and 1600 &#8491;. We also have the Magnetic field data from <font color-\"#8b0d7a\">Helioseismic and Magnetic Imager </font>([HMI](http://hmi.stanford.edu/)). The AIA data gives us intensity values at roughly different temperatures, while the HMI data provides us with the corresponding photospheric magnetic field strength . \n",
    "\n",
    "------------------------------------------"
   ]
  },
  {
   "cell_type": "markdown",
   "metadata": {
    "slideshow": {
     "slide_type": "slide"
    }
   },
   "source": [
    "### Task 1: Plotting a single AIA image\n",
    "\n",
    "Our first step is to load a single AIA image, and plot it. For this purpose, let us take a 193 &#8491; image and plot it!"
   ]
  },
  {
   "cell_type": "code",
   "execution_count": null,
   "metadata": {
    "collapsed": true,
    "slideshow": {
     "slide_type": "subslide"
    }
   },
   "outputs": [],
   "source": [
    "image_193=fits.open('aia193/ssw_cutout_20110809_033019_AIA_193_.fts')"
   ]
  },
  {
   "cell_type": "code",
   "execution_count": null,
   "metadata": {
    "slideshow": {
     "slide_type": "subslide"
    }
   },
   "outputs": [],
   "source": [
    "'''\n",
    "    We have loaded the fits file, so let us have a look at the information present in the file.\n",
    "'''\n",
    "print(image_193.info())"
   ]
  },
  {
   "cell_type": "markdown",
   "metadata": {
    "slideshow": {
     "slide_type": "skip"
    }
   },
   "source": [
    "One must see **one** primary HDU with 211 cards, and dimensions `(703,833)`. We will obtain this data and verify its shape."
   ]
  },
  {
   "cell_type": "code",
   "execution_count": null,
   "metadata": {
    "scrolled": true,
    "slideshow": {
     "slide_type": "slide"
    }
   },
   "outputs": [],
   "source": [
    "image_193=image_193[0]\n",
    "print(image_193.header)"
   ]
  },
  {
   "cell_type": "code",
   "execution_count": null,
   "metadata": {
    "slideshow": {
     "slide_type": "subslide"
    }
   },
   "outputs": [],
   "source": [
    "image_data=image_193.data\n",
    "print(image_data.shape)"
   ]
  },
  {
   "cell_type": "markdown",
   "metadata": {
    "slideshow": {
     "slide_type": "slide"
    }
   },
   "source": [
    "Now that we have confirmed the size of the image, we will need to plot it. A simple plot command is `plt.imshow` to plot the image, but this gives an observer no information. Thus, we must:\n",
    "1. Figure out the extent of image in arcseconds (i.e. in physical units, which tells us where the image is taken w.r.t the centre of the solar disc.\n",
    "2. Plot with the Instrument, and channel. \n",
    "\n",
    "All of this information is present in the fits file. The extent can be found quite simply:\n",
    "1. The coordinate corresponding to the centre is given in the data, as `XCEN` and `YCEN` for the two axes. This corresponds to the middle pixel of the image --  ie. if there are `Nx` pixels in `X` dimensions, it corresponds to the `(Nx+1)/2` pixel. Similarly for `Y` axis also.\n",
    "2. The step size from one pixel to the next is given. This is known as resolution of the telescope -- i.e, what is the apparent size corresponding to `1` pixel of observation ? This is obtained from `CDELT1` and `CDELT2` keywords of the header. \n",
    "3. The wavelength can be obtained from `WAVELNTH` keyword of header. Similarly, the date of observation can be obtained from `DATE-OBS`. \n",
    "\n",
    "Wondering how we figured out all this stuff? There is a reference file explaining the keywords at JSOC, hosted on Stanford. The document may be found [here](http://jsoc.stanford.edu/doc/keywords/AIA/AIA02840_A_AIA-SDO_FITS_Keyword_Documents.pdf): http://jsoc.stanford.edu/doc/keywords/AIA/AIA02840_A_AIA-SDO_FITS_Keyword_Documents.pdf.\n",
    "\n",
    "------------------------\n",
    "\n",
    "First, we will write all the codes step by step to make sure they are understandable. Then, we will proceed to wrap it all up into a function"
   ]
  },
  {
   "cell_type": "code",
   "execution_count": null,
   "metadata": {
    "scrolled": true,
    "slideshow": {
     "slide_type": "slide"
    }
   },
   "outputs": [],
   "source": [
    "image_header=image_193.header\n",
    "interval_x=int((image_data.shape[0]+1)/2)*image_header['CDELT1'] #half of n_elements * step size, in x axis\n",
    "interval_y=int((image_data.shape[1]+1)/2)*image_header['CDELT2'] #half of n_elements * step size, in x axis\n",
    "minval_x=image_header['XCEN']-interval_x #minimum value is center pixel - half the array size in arcsec, in x axis\n",
    "maxval_x=image_header['XCEN']+interval_x #maximum value is center pixel + half the array size in arcsec, in x axis\n",
    "minval_y=image_header['YCEN']-interval_y #minimum value is center pixel - half the array size in arcsec, in y axis\n",
    "maxval_y=image_header['YCEN']+interval_y #maximum value is center pixel + half the array size in arcsec, in y axis\n",
    "x_=[minval_x, maxval_x] #Extent of x, in arcsec\n",
    "y_=[minval_y, maxval_y]#Extent of y, in arcsec\n",
    "plt.figure()\n",
    "plt.imshow(image_data,cmap='hot',origin='lower',extent=x_+y_)\n",
    "plt.title(\"%s %d $\\AA$\"%(image_header['T_OBS'],image_header['WAVELNTH']))\n",
    "plt.xlabel('Solar Longitude (Solar-X) in %s'%(image_header['CUNIT1']))\n",
    "plt.ylabel('Solar Latitude (Solar-Y) in %s'%(image_header['CUNIT2']))\n",
    "plt.colorbar(label='Pixel intensity (%s)'%(image_header['PIXLUNIT']))"
   ]
  },
  {
   "cell_type": "markdown",
   "metadata": {
    "slideshow": {
     "slide_type": "skip"
    }
   },
   "source": [
    "---------------------------\n",
    "\n",
    "That's it! We have plotted a wonderful image of an Active Region from the AIA data! Now, a small test :)\n",
    "\n",
    "-------------------"
   ]
  },
  {
   "cell_type": "markdown",
   "metadata": {
    "slideshow": {
     "slide_type": "slide"
    }
   },
   "source": [
    "### Test 1: Plot the image of the solar flare corresponding to 171 &#8491; data\n",
    "\n",
    "Similar to the code above, plot the corresponding time image of a 171 &#8491; data. You need not `print` the header and information -- directly plot the data."
   ]
  },
  {
   "cell_type": "code",
   "execution_count": null,
   "metadata": {
    "collapsed": true,
    "slideshow": {
     "slide_type": "skip"
    }
   },
   "outputs": [],
   "source": [
    "#Fill up this cell! \n",
    "image_171=fits.open()\n",
    "\n"
   ]
  },
  {
   "cell_type": "markdown",
   "metadata": {
    "slideshow": {
     "slide_type": "slide"
    }
   },
   "source": [
    "### Task 2: Subplot of two AIA images.\n",
    "\n",
    "Now that we know how to plot a single image, we will need to learn to plot multiple images. Science is done best with as much information as possible -- thus, one needs to keep comparing and benchmarking results one obtains from different datasets. \n",
    "\n",
    "For a simple case, we will subplot the AIA 193 &#8491; data with a HMI Line-Of-Sight Magnetogram data!"
   ]
  },
  {
   "cell_type": "markdown",
   "metadata": {
    "slideshow": {
     "slide_type": "skip"
    }
   },
   "source": [
    "------------------\n",
    "\n",
    "To make our life peaceful, we define a function which automatically finds the range of field of view in arcsec. \n",
    "\n",
    "-------------"
   ]
  },
  {
   "cell_type": "code",
   "execution_count": null,
   "metadata": {
    "collapsed": true,
    "slideshow": {
     "slide_type": "slide"
    }
   },
   "outputs": [],
   "source": [
    "def Generate_from_center(centreval,stepsize,n_elements):\n",
    "    '''\n",
    "        This function give you the min and max value in arcsec of the FOV.\n",
    "    '''\n",
    "    interval=int((n_elements+1)/2)*stepsize\n",
    "    minval=centreval-interval\n",
    "    maxval=centreval+interval\n",
    "    return [minval,maxval]"
   ]
  },
  {
   "cell_type": "code",
   "execution_count": null,
   "metadata": {
    "slideshow": {
     "slide_type": "slide"
    }
   },
   "outputs": [],
   "source": [
    "#Now, we load the 193 and HMI data.\n",
    "image_193=fits.open('aia193/ssw_cutout_20110809_033219_AIA_193_.fts')\n",
    "image_hmi=fits.open('hmi/ssw_cutout_20110809_033210_AIA_blos_.fts')\n",
    "'''\n",
    "    Note that we have selected a different datapoint here. The HMI and AIA data cannot be obtained at the same time.\n",
    "    Hence, we use the data which are closest to each other.\n",
    "'''\n",
    "print(image_193.info())\n",
    "print(image_hmi.info())"
   ]
  },
  {
   "cell_type": "code",
   "execution_count": null,
   "metadata": {
    "slideshow": {
     "slide_type": "subslide"
    }
   },
   "outputs": [],
   "source": [
    "image_193=image_193[0]\n",
    "image_hmi=image_hmi[0]\n",
    "image_193_data=image_193.data\n",
    "print(image_193_data.shape)\n",
    "image_hmi_data=image_hmi.data\n",
    "print(image_hmi_data.shape)\n",
    "image_193_header=image_193.header\n",
    "image_hmi_header=image_hmi.header"
   ]
  },
  {
   "cell_type": "markdown",
   "metadata": {
    "slideshow": {
     "slide_type": "slide"
    }
   },
   "source": [
    "If you were careful, you would have noticed the HMI and AIA data do not have the same size -- why? What causes this inherent difference in the size of the two images? How can we diagnose the cause?\n",
    "\n",
    "This will form your next test! :P"
   ]
  },
  {
   "cell_type": "markdown",
   "metadata": {
    "slideshow": {
     "slide_type": "slide"
    }
   },
   "source": [
    "### Test 2: What causes the difference in size of the HMI and AIA data?\n",
    "\n",
    "If we are to diagnose the cause of difference of size of the two images, where should we look up any information about the two files? And what parameter do we look at to figure this out?"
   ]
  },
  {
   "cell_type": "code",
   "execution_count": null,
   "metadata": {
    "collapsed": true,
    "slideshow": {
     "slide_type": "skip"
    }
   },
   "outputs": [],
   "source": [
    "#Feed your analysis in here!\n",
    "\n",
    "\n"
   ]
  },
  {
   "cell_type": "markdown",
   "metadata": {
    "slideshow": {
     "slide_type": "slide"
    }
   },
   "source": [
    "------------------------------\n",
    "For plotting purposes, we do not need to make the images of the exact same size -- for doing science, however, we will surely need to make them of the same size! Hence, for now, we may go ahead and plot the images!\n",
    "\n",
    "--------------------------"
   ]
  },
  {
   "cell_type": "code",
   "execution_count": null,
   "metadata": {
    "slideshow": {
     "slide_type": "slide"
    }
   },
   "outputs": [],
   "source": [
    "x_193=Generate_from_center(image_193_header['XCEN'],image_193_header['CDELT1'],image_193_data.shape[0])\n",
    "y_193=Generate_from_center(image_193_header['YCEN'],image_193_header['CDELT2'],image_193_data.shape[1])\n",
    "x_hmi=Generate_from_center(image_hmi_header['XCEN'],image_hmi_header['CDELT1'],image_hmi_data.shape[0])\n",
    "y_hmi=Generate_from_center(image_hmi_header['YCEN'],image_hmi_header['CDELT2'],image_hmi_data.shape[1])\n",
    "#Plotting them!\n",
    "fig,ax = plt.subplots(nrows=1,ncols=2,figsize=(30,10))\n",
    "# fig corresponds to the figure variable (the total figure), \n",
    "# ax correponds to the subplot where the image is drawn.\n",
    "im_193 = ax[0].imshow(image_193_data,origin='lower',extent=x_193+y_193,cmap='hot')\n",
    "ax[0].set_title(\"%s %d $\\AA$\"%(image_193_header['T_OBS'],image_193_header['WAVELNTH']),fontsize=20)\n",
    "ax[0].set_xlabel('Solar Longitude (Solar-X) in %s'%(image_193_header['CUNIT1']),fontsize=20)\n",
    "ax[0].set_ylabel('Solar Latitude (Solar-Y) in %s'%(image_193_header['CUNIT2']),fontsize=20)\n",
    "fig.colorbar(im_193,ax=ax[0],label='Pixel intensity (%s)'%(image_193_header['PIXLUNIT']),fraction=0.04).ax.tick_params(labelsize=20)\n",
    "#Now we plot the hmi data\n",
    "im_hmi = ax[1].imshow(image_hmi_data,origin='lower',extent=x_hmi+y_hmi,cmap='gray')\n",
    "ax[1].set_title(\"%s %d $\\AA$\"%(image_hmi_header['T_OBS'],image_hmi_header['WAVELNTH']),fontsize=20)\n",
    "ax[1].set_xlabel('Solar Longitude (Solar-X) in %s'%(image_hmi_header['CUNIT1']),fontsize=20)\n",
    "ax[1].set_ylabel('Solar Latitude (Solar-Y) in %s'%(image_hmi_header['CUNIT2']),fontsize=20)\n",
    "fig.colorbar(im_hmi,ax=ax[1],label='Pixel intensity (%s)'%(image_hmi_header['BUNIT']),fraction=0.04).ax.tick_params(labelsize=20)\n"
   ]
  },
  {
   "cell_type": "markdown",
   "metadata": {
    "slideshow": {
     "slide_type": "skip"
    }
   },
   "source": [
    "#### This is bad!\n",
    "\n",
    "The figure above looks nothing like the ones we see generally! So what is the issue? We need to check the actual values of hmi once."
   ]
  },
  {
   "cell_type": "code",
   "execution_count": null,
   "metadata": {
    "slideshow": {
     "slide_type": "slide"
    }
   },
   "outputs": [],
   "source": [
    "print(np.min(image_hmi_data),np.max(image_hmi_data))\n",
    "print(np.where(image_hmi_data==np.isnan(image_hmi_data)))"
   ]
  },
  {
   "cell_type": "markdown",
   "metadata": {
    "slideshow": {
     "slide_type": "skip"
    }
   },
   "source": [
    "Aha! Seems like there are large negative values (this is from the active region), and there seem to be `NaN` values -- i.e, not a number values in the data. For better viewing, we must threshold our data appropriately!"
   ]
  },
  {
   "cell_type": "code",
   "execution_count": null,
   "metadata": {
    "slideshow": {
     "slide_type": "slide"
    }
   },
   "outputs": [],
   "source": [
    "x_193=Generate_from_center(image_193_header['XCEN'],image_193_header['CDELT1'],image_193_data.shape[0])\n",
    "y_193=Generate_from_center(image_193_header['YCEN'],image_193_header['CDELT2'],image_193_data.shape[1])\n",
    "x_hmi=Generate_from_center(image_hmi_header['XCEN'],image_hmi_header['CDELT1'],image_hmi_data.shape[0])\n",
    "y_hmi=Generate_from_center(image_hmi_header['YCEN'],image_hmi_header['CDELT2'],image_hmi_data.shape[1])\n",
    "#Plotting them!\n",
    "fig,ax = plt.subplots(nrows=1,ncols=2,figsize=(30,10))\n",
    "# fig corresponds to the figure variable (the total figure), \n",
    "# ax correponds to the subplot where the image is drawn.\n",
    "im_193 = ax[0].imshow(image_193_data,origin='lower',extent=x_193+y_193,cmap='hot')\n",
    "ax[0].set_title(\"%s %d $\\AA$\"%(image_193_header['T_OBS'],image_193_header['WAVELNTH']),fontsize=20)\n",
    "ax[0].set_xlabel('Solar Longitude (Solar-X) in %s'%(image_193_header['CUNIT1']),fontsize=20)\n",
    "ax[0].set_ylabel('Solar Latitude (Solar-Y) in %s'%(image_193_header['CUNIT2']),fontsize=20)\n",
    "fig.colorbar(im_193,ax=ax[0],label='Pixel intensity (%s)'%(image_193_header['PIXLUNIT']),fraction=0.04).ax.tick_params(labelsize=20)\n",
    "#Now we plot the hmi data\n",
    "im_hmi = ax[1].imshow(image_hmi_data,origin='lower',extent=x_hmi+y_hmi,cmap='gray',clim=(-1000.0,1000.0))\n",
    "ax[1].set_title(\"%s %d $\\AA$\"%(image_hmi_header['T_OBS'],image_hmi_header['WAVELNTH']),fontsize=20)\n",
    "ax[1].set_xlabel('Solar Longitude (Solar-X) in %s'%(image_hmi_header['CUNIT1']),fontsize=20)\n",
    "ax[1].set_ylabel('Solar Latitude (Solar-Y) in %s'%(image_hmi_header['CUNIT2']),fontsize=20)\n",
    "fig.colorbar(im_hmi,ax=ax[1],label='Pixel intensity (%s)'%(image_hmi_header['BUNIT']),fraction=0.04).ax.tick_params(labelsize=20)\n"
   ]
  },
  {
   "cell_type": "markdown",
   "metadata": {
    "slideshow": {
     "slide_type": "skip"
    }
   },
   "source": [
    "This looks way better! We can see how strong magnetic field regions correspond to the AR in the dataset!"
   ]
  },
  {
   "cell_type": "markdown",
   "metadata": {
    "slideshow": {
     "slide_type": "slide"
    }
   },
   "source": [
    "### Test 3: Plot an image of 1600 &#8491; and HMI\n",
    "\n",
    "Plot a co-temporal image of 1600 &#8491; data and a HMI B-LOS data, similar to the one we have done above. See if the above observed correpondence holds here!"
   ]
  },
  {
   "cell_type": "code",
   "execution_count": null,
   "metadata": {
    "collapsed": true,
    "slideshow": {
     "slide_type": "skip"
    }
   },
   "outputs": [],
   "source": [
    "#Write your solution here:\n",
    "\n",
    "\n"
   ]
  },
  {
   "cell_type": "code",
   "execution_count": null,
   "metadata": {
    "collapsed": true,
    "slideshow": {
     "slide_type": "skip"
    }
   },
   "outputs": [],
   "source": []
  },
  {
   "cell_type": "markdown",
   "metadata": {
    "slideshow": {
     "slide_type": "skip"
    }
   },
   "source": [
    "--------------------------"
   ]
  },
  {
   "cell_type": "markdown",
   "metadata": {
    "slideshow": {
     "slide_type": "slide"
    }
   },
   "source": [
    "### Task 3: Plotting all the data together in a subplot!\n",
    "\n",
    "To make our life easier, we write a function for all the plotting, and just send in the data and axis!"
   ]
  },
  {
   "cell_type": "code",
   "execution_count": null,
   "metadata": {
    "collapsed": true,
    "slideshow": {
     "slide_type": "slide"
    }
   },
   "outputs": [],
   "source": [
    "def PlotData(image_data,image_header,ax,fig,**kwargs):\n",
    "    '''\n",
    "        Hold on, this looks complicated! What does it do?\n",
    "        This function takes in something called a subplot axis, and plots an image in that axis alone.\n",
    "        For example, if there are 4 plots arranged as a grid in a given figure, it is called a subplot. This function\n",
    "    '''\n",
    "    x_=Generate_from_center(image_header['XCEN'],image_header['CDELT1'],image_data.shape[0])\n",
    "    y_=Generate_from_center(image_header['YCEN'],image_header['CDELT2'],image_data.shape[1])\n",
    "    im = ax.imshow(image_data,origin='lower',extent=x_+y_,**kwargs)\n",
    "    ax.set_title(\"%s %d $\\AA$\"%(image_header['T_OBS'],image_header['WAVELNTH']),fontsize=20)\n",
    "    ax.set_xlabel('Solar Longitude (Solar-X) in %s'%(image_header['CUNIT1']),fontsize=20)\n",
    "    ax.set_ylabel('Solar Latitude (Solar-Y) in %s'%(image_header['CUNIT2']),fontsize=20)\n",
    "    try:\n",
    "        fig.colorbar(im,ax=ax,label='Pixel intensity (%s)'%(image_header['PIXLUNIT']),fraction=0.04).ax.tick_params(labelsize=20)\n",
    "    except: \n",
    "        fig.colorbar(im,ax=ax,label='Pixel intensity (%s)'%(image_header['BUNIT']),fraction=0.04).ax.tick_params(labelsize=20)"
   ]
  },
  {
   "cell_type": "code",
   "execution_count": null,
   "metadata": {
    "slideshow": {
     "slide_type": "slide"
    }
   },
   "outputs": [],
   "source": [
    "#Now, we load the 193 and HMI data.\n",
    "image_094=fits.open('aia094/ssw_cutout_20110809_033202_AIA_94_.fts')\n",
    "image_131=fits.open('aia131/ssw_cutout_20110809_033221_AIA_131_.fts')\n",
    "image_171=fits.open('aia171/ssw_cutout_20110809_033212_AIA_171_.fts')\n",
    "image_193=fits.open('aia193/ssw_cutout_20110809_033219_AIA_193_.fts')\n",
    "image_211=fits.open('aia211/ssw_cutout_20110809_033200_AIA_211_.fts')\n",
    "image_335=fits.open('aia335/ssw_cutout_20110809_033203_AIA_335_.fts')\n",
    "image_1600=fits.open('aia1600/ssw_cutout_20110809_033153_AIA_1600_.fts')\n",
    "image_hmi=fits.open('hmi/ssw_cutout_20110809_033210_AIA_blos_.fts')\n",
    "'''\n",
    "    Note that we have selected a different datapoint here. The HMI and AIA data cannot be obtained at the same time.\n",
    "    Hence, we use the data which are closest to each other.\n",
    "'''\n",
    "print(image_094.info())\n",
    "print(image_131.info())\n",
    "print(image_171.info())\n",
    "print(image_193.info())\n",
    "print(image_211.info())\n",
    "print(image_335.info())\n",
    "print(image_1600.info())\n",
    "print(image_hmi.info())"
   ]
  },
  {
   "cell_type": "code",
   "execution_count": null,
   "metadata": {
    "slideshow": {
     "slide_type": "slide"
    }
   },
   "outputs": [],
   "source": [
    "image_094=image_094[0]\n",
    "image_131=image_131[0]\n",
    "image_171=image_171[0]\n",
    "image_193=image_193[0]\n",
    "image_211=image_211[0]\n",
    "image_335=image_335[0]\n",
    "image_1600=image_1600[0]\n",
    "image_hmi=image_hmi[0]\n",
    "\n",
    "image_094_data=image_094.data\n",
    "image_131_data=image_131.data\n",
    "image_171_data=image_171.data\n",
    "image_193_data=image_193.data\n",
    "image_211_data=image_211.data\n",
    "image_335_data=image_335.data\n",
    "image_1600_data=image_1600.data\n",
    "image_hmi_data=image_hmi.data\n",
    "\n",
    "print(image_094_data.shape)\n",
    "print(image_131_data.shape)\n",
    "print(image_171_data.shape)\n",
    "print(image_193_data.shape)\n",
    "print(image_211_data.shape)\n",
    "print(image_335_data.shape)\n",
    "print(image_1600_data.shape)\n",
    "print(image_hmi_data.shape)\n",
    "\n",
    "image_094_header=image_094.header\n",
    "image_131_header=image_131.header\n",
    "image_171_header=image_171.header\n",
    "image_193_header=image_193.header\n",
    "image_211_header=image_211.header\n",
    "image_335_header=image_335.header\n",
    "image_1600_header=image_1600.header\n",
    "image_hmi_header=image_hmi.header"
   ]
  },
  {
   "cell_type": "markdown",
   "metadata": {
    "slideshow": {
     "slide_type": "skip"
    }
   },
   "source": [
    "Great! All of the data is loaded now! Now, we will have to limit the dynamic range of HMI to enable proper plotting!"
   ]
  },
  {
   "cell_type": "code",
   "execution_count": null,
   "metadata": {
    "collapsed": true,
    "slideshow": {
     "slide_type": "slide"
    }
   },
   "outputs": [],
   "source": [
    "image_hmi_data[np.where(image_hmi_data>1000.0)]=1000.0\n",
    "image_hmi_data[np.where(image_hmi_data<-1000.0)]=-1000.0"
   ]
  },
  {
   "cell_type": "markdown",
   "metadata": {
    "slideshow": {
     "slide_type": "subslide"
    }
   },
   "source": [
    "Now, we generate subplots to plot all of the data. To have individual colours, we also use different colormaps now!"
   ]
  },
  {
   "cell_type": "code",
   "execution_count": null,
   "metadata": {
    "slideshow": {
     "slide_type": "slide"
    }
   },
   "outputs": [],
   "source": [
    "data_list=[image_094_data,image_131_data,image_171_data,image_193_data,\n",
    "           image_211_data,image_335_data,image_1600_data,image_hmi_data]\n",
    "header_list=[image_094_header,image_131_header,image_171_header,\n",
    "             image_193_header,image_211_header,image_335_header,image_1600_header,\n",
    "             image_hmi_header]\n",
    "colormap_list=['Greens_r','Blues_r','YlOrBr_r','Reds_r','RdPu_r','Purples_r','bone','gray']\n",
    "fig,axes = plt.subplots(nrows=2,ncols=4,figsize=(50,15))\n",
    "axes=axes.ravel()\n",
    "for d,h,c,ax in zip(data_list,header_list,colormap_list,axes):\n",
    "    PlotData(d,h,ax,fig,cmap=c)"
   ]
  },
  {
   "cell_type": "markdown",
   "metadata": {
    "slideshow": {
     "slide_type": "slide"
    }
   },
   "source": [
    "### Test 4: Subplot, but scaled\n",
    "\n",
    "From the previous analysis, you could see that the flare is not visible well in many of the channels, due to a large dynamic range. In such cases, one performs different kinds of scaling to reduce the dynamic range:\n",
    "1. Log-scaling.\n",
    "2. Square root scaling.\n",
    "3. Cubic scaling.\n",
    "\n",
    "Note that due to existence of negative values (in HMI, and at some places in the AIA), the sign must be taken care of before performing the scaling. In such cases, we can define a modulus function as: $$L(x)=\\frac{x}{|x|}\\log(|x|),$$ $$S(x)=\\frac{x}{|x|}\\sqrt{|x|}.$$ These functions reduce the dynamic range while preserving the sign. \n",
    "\n",
    "Your task is to:\n",
    "1. Perform square root scaling by calling the function `Pseud_sqrt`, and plot the images.\n",
    "2. Write your function for `LogModulus` based on `Pseud_sqrt` and plot the images."
   ]
  },
  {
   "cell_type": "code",
   "execution_count": null,
   "metadata": {
    "collapsed": true,
    "slideshow": {
     "slide_type": "skip"
    }
   },
   "outputs": [],
   "source": [
    "def Pseud_sqrt(x):\n",
    "    return np.sign(x)*np.sqrt(np.abs(x))"
   ]
  },
  {
   "cell_type": "code",
   "execution_count": null,
   "metadata": {
    "collapsed": true,
    "slideshow": {
     "slide_type": "skip"
    }
   },
   "outputs": [],
   "source": [
    "#Plot the images in Square root scaling! Use the previous code, and call the function on the data alone!\n",
    "\n",
    "\n",
    "\n",
    "\n",
    "\n",
    "\n"
   ]
  },
  {
   "cell_type": "code",
   "execution_count": null,
   "metadata": {
    "collapsed": true,
    "slideshow": {
     "slide_type": "skip"
    }
   },
   "outputs": [],
   "source": [
    "def LogModulus(x):\n",
    "    return "
   ]
  },
  {
   "cell_type": "code",
   "execution_count": null,
   "metadata": {
    "collapsed": true,
    "slideshow": {
     "slide_type": "skip"
    }
   },
   "outputs": [],
   "source": [
    "#Plot the images in Log modulus scaling! Use the previous code, and call the function on the data alone!\n",
    "\n",
    "\n",
    "\n",
    "\n",
    "\n",
    "\n",
    "\n"
   ]
  }
 ],
 "metadata": {
  "kernelspec": {
   "display_name": "Python 2",
   "language": "python",
   "name": "python2"
  },
  "language_info": {
   "codemirror_mode": {
    "name": "ipython",
    "version": 2
   },
   "file_extension": ".py",
   "mimetype": "text/x-python",
   "name": "python",
   "nbconvert_exporter": "python",
   "pygments_lexer": "ipython2",
   "version": "2.7.13"
  }
 },
 "nbformat": 4,
 "nbformat_minor": 2
}
